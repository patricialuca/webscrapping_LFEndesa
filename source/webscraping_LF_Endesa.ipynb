{
  "nbformat": 4,
  "nbformat_minor": 0,
  "metadata": {
    "colab": {
      "provenance": [],
      "authorship_tag": "ABX9TyNP1YAz0eQn6SE62cx8Mhwf",
      "include_colab_link": true
    },
    "kernelspec": {
      "name": "python3",
      "display_name": "Python 3"
    },
    "language_info": {
      "name": "python"
    },
    "gpuClass": "standard",
    "accelerator": "GPU"
  },
  "cells": [
    {
      "cell_type": "markdown",
      "metadata": {
        "id": "view-in-github",
        "colab_type": "text"
      },
      "source": [
        "<a href=\"https://colab.research.google.com/github/patricialuca/webscrapping_LFEndesa/blob/main/webscraping_LFEndesa.ipynb\" target=\"_parent\"><img src=\"https://colab.research.google.com/assets/colab-badge.svg\" alt=\"Open In Colab\"/></a>"
      ]
    },
    {
      "cell_type": "markdown",
      "source": [
        "### **1. Instalación del navegador**\n",
        "\n",
        "Necesitamos utilizar un navegador, para ello se implementa el siguiente código que nos va a permitir utilizar Chrome como navegador desde Google Colab."
      ],
      "metadata": {
        "id": "TMwKKaSOxHwS"
      }
    },
    {
      "cell_type": "code",
      "execution_count": 1,
      "metadata": {
        "colab": {
          "base_uri": "https://localhost:8080/"
        },
        "id": "0N3Aidj6xEBZ",
        "outputId": "11bf8406-01ad-444e-8ec6-a24b2706da3b"
      },
      "outputs": [
        {
          "output_type": "stream",
          "name": "stdout",
          "text": [
            "\r0% [Working]\r            \rGet:1 https://cloud.r-project.org/bin/linux/ubuntu focal-cran40/ InRelease [3,622 B]\n",
            "\r0% [Connecting to archive.ubuntu.com (91.189.91.39)] [Connecting to security.ub\r                                                                               \rGet:2 https://developer.download.nvidia.com/compute/cuda/repos/ubuntu2004/x86_64  InRelease [1,581 B]\n",
            "\r0% [Waiting for headers] [Waiting for headers] [Connecting to ppa.launchpad.net\r0% [Waiting for headers] [Waiting for headers] [Connecting to ppa.launchpad.net\r                                                                               \rHit:3 http://archive.ubuntu.com/ubuntu focal InRelease\n",
            "\r0% [Waiting for headers] [Waiting for headers] [Connecting to ppa.launchpad.net\r                                                                               \rGet:4 http://archive.ubuntu.com/ubuntu focal-updates InRelease [114 kB]\n",
            "Get:5 http://security.ubuntu.com/ubuntu focal-security InRelease [114 kB]\n",
            "Hit:6 http://ppa.launchpad.net/c2d4u.team/c2d4u4.0+/ubuntu focal InRelease\n",
            "Get:7 http://archive.ubuntu.com/ubuntu focal-backports InRelease [108 kB]\n",
            "Hit:8 http://ppa.launchpad.net/cran/libgit2/ubuntu focal InRelease\n",
            "Hit:9 http://ppa.launchpad.net/deadsnakes/ppa/ubuntu focal InRelease\n",
            "Hit:10 http://ppa.launchpad.net/graphics-drivers/ppa/ubuntu focal InRelease\n",
            "Get:11 https://developer.download.nvidia.com/compute/cuda/repos/ubuntu2004/x86_64  Packages [993 kB]\n",
            "Hit:12 http://ppa.launchpad.net/ubuntugis/ppa/ubuntu focal InRelease\n",
            "Get:13 http://archive.ubuntu.com/ubuntu focal-updates/restricted amd64 Packages [2,277 kB]\n",
            "Get:14 http://archive.ubuntu.com/ubuntu focal-updates/multiverse amd64 Packages [31.2 kB]\n",
            "Get:15 http://archive.ubuntu.com/ubuntu focal-updates/universe amd64 Packages [1,329 kB]\n",
            "Get:16 http://archive.ubuntu.com/ubuntu focal-updates/main amd64 Packages [3,111 kB]\n",
            "Get:17 http://security.ubuntu.com/ubuntu focal-security/main amd64 Packages [2,629 kB]\n",
            "Get:18 http://security.ubuntu.com/ubuntu focal-security/universe amd64 Packages [1,033 kB]\n",
            "Fetched 11.7 MB in 5s (2,497 kB/s)\n",
            "Reading package lists... Done\n",
            "Reading package lists... Done\n",
            "Building dependency tree       \n",
            "Reading state information... Done\n",
            "The following additional packages will be installed:\n",
            "  libudev1 udev\n",
            "The following NEW packages will be installed:\n",
            "  libu2f-udev udev\n",
            "The following packages will be upgraded:\n",
            "  libudev1\n",
            "1 upgraded, 2 newly installed, 0 to remove and 25 not upgraded.\n",
            "Need to get 1,448 kB of archives.\n",
            "After this operation, 9,440 kB of additional disk space will be used.\n",
            "Get:1 http://archive.ubuntu.com/ubuntu focal-updates/main amd64 libudev1 amd64 245.4-4ubuntu3.21 [75.9 kB]\n",
            "Get:2 http://archive.ubuntu.com/ubuntu focal-updates/main amd64 udev amd64 245.4-4ubuntu3.21 [1,366 kB]\n",
            "Get:3 http://archive.ubuntu.com/ubuntu focal/main amd64 libu2f-udev all 1.1.10-1 [6,108 B]\n",
            "Fetched 1,448 kB in 0s (3,483 kB/s)\n",
            "debconf: unable to initialize frontend: Dialog\n",
            "debconf: (No usable dialog-like program is installed, so the dialog based frontend cannot be used. at /usr/share/perl5/Debconf/FrontEnd/Dialog.pm line 76, <> line 3.)\n",
            "debconf: falling back to frontend: Readline\n",
            "debconf: unable to initialize frontend: Readline\n",
            "debconf: (This frontend requires a controlling tty.)\n",
            "debconf: falling back to frontend: Teletype\n",
            "dpkg-preconfigure: unable to re-open stdin: \n",
            "(Reading database ... 122352 files and directories currently installed.)\n",
            "Preparing to unpack .../libudev1_245.4-4ubuntu3.21_amd64.deb ...\n",
            "Unpacking libudev1:amd64 (245.4-4ubuntu3.21) over (245.4-4ubuntu3.19) ...\n",
            "Setting up libudev1:amd64 (245.4-4ubuntu3.21) ...\n",
            "Selecting previously unselected package udev.\n",
            "(Reading database ... 122352 files and directories currently installed.)\n",
            "Preparing to unpack .../udev_245.4-4ubuntu3.21_amd64.deb ...\n",
            "Unpacking udev (245.4-4ubuntu3.21) ...\n",
            "Selecting previously unselected package libu2f-udev.\n",
            "Preparing to unpack .../libu2f-udev_1.1.10-1_all.deb ...\n",
            "Unpacking libu2f-udev (1.1.10-1) ...\n",
            "Setting up udev (245.4-4ubuntu3.21) ...\n",
            "invoke-rc.d: could not determine current runlevel\n",
            "invoke-rc.d: policy-rc.d denied execution of start.\n",
            "Setting up libu2f-udev (1.1.10-1) ...\n",
            "Failed to send reload request: No such file or directory\n",
            "Processing triggers for systemd (245.4-4ubuntu3.21) ...\n",
            "Processing triggers for man-db (2.9.1-1) ...\n",
            "Processing triggers for libc-bin (2.31-0ubuntu9.9) ...\n",
            "Looking in indexes: https://pypi.org/simple, https://us-python.pkg.dev/colab-wheels/public/simple/\n",
            "Collecting selenium\n",
            "  Downloading selenium-4.9.0-py3-none-any.whl (6.5 MB)\n",
            "\u001b[2K     \u001b[90m━━━━━━━━━━━━━━━━━━━━━━━━━━━━━━━━━━━━━━━━\u001b[0m \u001b[32m6.5/6.5 MB\u001b[0m \u001b[31m53.7 MB/s\u001b[0m eta \u001b[36m0:00:00\u001b[0m\n",
            "\u001b[?25hCollecting trio-websocket~=0.9\n",
            "  Downloading trio_websocket-0.10.2-py3-none-any.whl (17 kB)\n",
            "Requirement already satisfied: certifi>=2021.10.8 in /usr/local/lib/python3.9/dist-packages (from selenium) (2022.12.7)\n",
            "Requirement already satisfied: urllib3[socks]~=1.26 in /usr/local/lib/python3.9/dist-packages (from selenium) (1.26.15)\n",
            "Collecting trio~=0.17\n",
            "  Downloading trio-0.22.0-py3-none-any.whl (384 kB)\n",
            "\u001b[2K     \u001b[90m━━━━━━━━━━━━━━━━━━━━━━━━━━━━━━━━━━━━━━\u001b[0m \u001b[32m384.9/384.9 kB\u001b[0m \u001b[31m34.0 MB/s\u001b[0m eta \u001b[36m0:00:00\u001b[0m\n",
            "\u001b[?25hRequirement already satisfied: attrs>=19.2.0 in /usr/local/lib/python3.9/dist-packages (from trio~=0.17->selenium) (23.1.0)\n",
            "Requirement already satisfied: exceptiongroup>=1.0.0rc9 in /usr/local/lib/python3.9/dist-packages (from trio~=0.17->selenium) (1.1.1)\n",
            "Requirement already satisfied: sortedcontainers in /usr/local/lib/python3.9/dist-packages (from trio~=0.17->selenium) (2.4.0)\n",
            "Requirement already satisfied: sniffio in /usr/local/lib/python3.9/dist-packages (from trio~=0.17->selenium) (1.3.0)\n",
            "Requirement already satisfied: idna in /usr/local/lib/python3.9/dist-packages (from trio~=0.17->selenium) (3.4)\n",
            "Collecting outcome\n",
            "  Downloading outcome-1.2.0-py2.py3-none-any.whl (9.7 kB)\n",
            "Collecting async-generator>=1.9\n",
            "  Downloading async_generator-1.10-py3-none-any.whl (18 kB)\n",
            "Collecting wsproto>=0.14\n",
            "  Downloading wsproto-1.2.0-py3-none-any.whl (24 kB)\n",
            "Requirement already satisfied: PySocks!=1.5.7,<2.0,>=1.5.6 in /usr/local/lib/python3.9/dist-packages (from urllib3[socks]~=1.26->selenium) (1.7.1)\n",
            "Collecting h11<1,>=0.9.0\n",
            "  Downloading h11-0.14.0-py3-none-any.whl (58 kB)\n",
            "\u001b[2K     \u001b[90m━━━━━━━━━━━━━━━━━━━━━━━━━━━━━━━━━━━━━━━━\u001b[0m \u001b[32m58.3/58.3 kB\u001b[0m \u001b[31m7.0 MB/s\u001b[0m eta \u001b[36m0:00:00\u001b[0m\n",
            "\u001b[?25hInstalling collected packages: outcome, h11, async-generator, wsproto, trio, trio-websocket, selenium\n",
            "Successfully installed async-generator-1.10 h11-0.14.0 outcome-1.2.0 selenium-4.9.0 trio-0.22.0 trio-websocket-0.10.2 wsproto-1.2.0\n",
            "--2023-04-21 09:06:00--  https://dl.google.com/linux/direct/google-chrome-stable_current_amd64.deb\n",
            "Resolving dl.google.com (dl.google.com)... 173.194.195.93, 173.194.195.136, 173.194.195.190, ...\n",
            "Connecting to dl.google.com (dl.google.com)|173.194.195.93|:443... connected.\n",
            "HTTP request sent, awaiting response... 200 OK\n",
            "Length: 93992344 (90M) [application/x-debian-package]\n",
            "Saving to: ‘google-chrome-stable_current_amd64.deb’\n",
            "\n",
            "google-chrome-stabl 100%[===================>]  89.64M   306MB/s    in 0.3s    \n",
            "\n",
            "2023-04-21 09:06:00 (306 MB/s) - ‘google-chrome-stable_current_amd64.deb’ saved [93992344/93992344]\n",
            "\n",
            "Selecting previously unselected package google-chrome-stable.\n",
            "(Reading database ... 122469 files and directories currently installed.)\n",
            "Preparing to unpack google-chrome-stable_current_amd64.deb ...\n",
            "Unpacking google-chrome-stable (112.0.5615.165-1) ...\n",
            "Setting up google-chrome-stable (112.0.5615.165-1) ...\n",
            "update-alternatives: using /usr/bin/google-chrome-stable to provide /usr/bin/x-www-browser (x-www-browser) in auto mode\n",
            "update-alternatives: using /usr/bin/google-chrome-stable to provide /usr/bin/gnome-www-browser (gnome-www-browser) in auto mode\n",
            "update-alternatives: using /usr/bin/google-chrome-stable to provide /usr/bin/google-chrome (google-chrome) in auto mode\n",
            "Processing triggers for mime-support (3.64ubuntu1) ...\n",
            "Processing triggers for man-db (2.9.1-1) ...\n",
            "Reading package lists... Done\n",
            "Building dependency tree       \n",
            "Reading state information... Done\n",
            "0 upgraded, 0 newly installed, 0 to remove and 25 not upgraded.\n",
            "--2023-04-21 09:06:16--  https://chromedriver.storage.googleapis.com/112.0.5615.49/chromedriver_linux64.zip\n",
            "Resolving chromedriver.storage.googleapis.com (chromedriver.storage.googleapis.com)... 108.177.120.128, 2607:f8b0:4001:c18::80\n",
            "Connecting to chromedriver.storage.googleapis.com (chromedriver.storage.googleapis.com)|108.177.120.128|:443... connected.\n",
            "HTTP request sent, awaiting response... 200 OK\n",
            "Length: 7079001 (6.8M) [application/zip]\n",
            "Saving to: ‘chromedriver_linux64.zip’\n",
            "\n",
            "chromedriver_linux6 100%[===================>]   6.75M  --.-KB/s    in 0.04s   \n",
            "\n",
            "2023-04-21 09:06:16 (179 MB/s) - ‘chromedriver_linux64.zip’ saved [7079001/7079001]\n",
            "\n",
            "Archive:  chromedriver_linux64.zip\n",
            "  inflating: chromedriver            \n",
            "  inflating: LICENSE.chromedriver    \n"
          ]
        }
      ],
      "source": [
        "# Instalar dependencias para utilizar Google Chrome\n",
        "!sudo apt-get update\n",
        "!sudo apt-get install -y libu2f-udev\n",
        "!pip install selenium\n",
        "\n",
        "# Instalar el navegador\n",
        "!wget https://dl.google.com/linux/direct/google-chrome-stable_current_amd64.deb\n",
        "!dpkg -i google-chrome-stable_current_amd64.deb\n",
        "!apt-get install -f\n",
        "!rm -rf google-chrome-stable_current_amd64.deb\n",
        "\n",
        "# Descargar el WebDriver \n",
        "!wget https://chromedriver.storage.googleapis.com/112.0.5615.49/chromedriver_linux64.zip\n",
        "!unzip chromedriver_linux64\n",
        "!rm -rf chromedriver_linux64.zip\n",
        "!rm -rf LICENSE.chromedriver"
      ]
    },
    {
      "cell_type": "markdown",
      "source": [
        "### **2. Cargamos las librerias que vamos a utilizar**"
      ],
      "metadata": {
        "id": "R4YV8BquxPqX"
      }
    },
    {
      "cell_type": "code",
      "source": [
        "# navegador\n",
        "from selenium import webdriver\n",
        "from selenium.webdriver.chrome.service import Service\n",
        "from selenium.webdriver.chrome.options import Options\n",
        "\n",
        "# manejo de lista desplegable\n",
        "from selenium.webdriver.support.ui import Select\n",
        "from selenium.webdriver.common.by import By\n",
        "\n",
        "# manejo de tiempos\n",
        "import time\n",
        "\n",
        "# manejo de datos\n",
        "import pandas as pd\n",
        "\n",
        "# exportar a csv\n",
        "import csv"
      ],
      "metadata": {
        "id": "rNK9DbqkxQMD"
      },
      "execution_count": 2,
      "outputs": []
    },
    {
      "cell_type": "markdown",
      "source": [
        "### **3. Almacenamiento en Drive**"
      ],
      "metadata": {
        "id": "IlBw3e0M1nEw"
      }
    },
    {
      "cell_type": "code",
      "source": [
        "from google.colab import drive\n",
        "drive.mount('/content/drive/') "
      ],
      "metadata": {
        "colab": {
          "base_uri": "https://localhost:8080/"
        },
        "id": "A1eKlU9t3Etl",
        "outputId": "67213b1b-8c15-4458-cb09-2a70ed426dd5"
      },
      "execution_count": 3,
      "outputs": [
        {
          "output_type": "stream",
          "name": "stdout",
          "text": [
            "Mounted at /content/drive/\n"
          ]
        }
      ]
    },
    {
      "cell_type": "markdown",
      "source": [
        "### **4. Opciones del navegador**"
      ],
      "metadata": {
        "id": "wYn1grHYxVvO"
      }
    },
    {
      "cell_type": "code",
      "source": [
        "def iniciar_chrome():\n",
        "  \"\"\"\n",
        "  Inicia el navegador con los parámetros indicados y nos devuelve el driver\n",
        "  \"\"\"\n",
        "  # Opciones de Chrome\n",
        "  chrome_options = Options()\n",
        "  user_agent = \"Mozilla/5.0 (Windows NT 10.; Win64; x64) AppleWebKit/537.36 (KHTML, like Gecko) Chrome/97.0.4692.99 Safari/537.36\"\n",
        "  chrome_options.add_argument(f\"user-agent={user_agent}\") # definimos el user agent\n",
        "  chrome_options.add_argument('--headless')\n",
        "  chrome_options.add_argument('--no-sandbox') # deshabilita el modo sandbox\n",
        "  chrome_options.add_argument('--start_maximized') # maximizamos la ventana\n",
        "  chrome_options.add_argument('--disable-web-security') # deshabilita la politica cross origin \n",
        "  chrome_options.add_argument('--disable-extensions') # para que no cargue las extensiones\n",
        "  chrome_options.add_argument('--disable-notifications') # bloquea las notificaciones de chrome\n",
        "  chrome_options.add_argument('--allow-running-insecure-content') # desactiva el contenido no seguro\n",
        "  chrome_options.add_argument('--no-default-browser-check') # evitar el aviso de que chrome no es el navegador principal\n",
        "  chrome_options.add_argument('--no-first-run') # evita que se ejecuten tareas que se realizan por primera vez en el navegador\n",
        "  chrome_options.add_argument('--no-proxy-server') # usar conexiones directas\n",
        "  chrome_options.add_argument('--disable-blink-features=AutomationControlled') # evita que selenium sea detectado\n",
        "  # Ruta del controlador de Chrome\n",
        "  chrome_driver_path = '/content/chromedriver'\n",
        "\n",
        "  # Crear un objeto Service para especificar la ruta del controlador\n",
        "  service = Service(chrome_driver_path)\n",
        "\n",
        "  # Crear una instancia del navegador Chrome\n",
        "  driver = webdriver.Chrome(service=service, options=chrome_options)\n",
        "  return driver "
      ],
      "metadata": {
        "id": "HAZUVORDxSnk"
      },
      "execution_count": 4,
      "outputs": []
    },
    {
      "cell_type": "markdown",
      "source": [
        "### **5. Manejar lista desplegable**"
      ],
      "metadata": {
        "id": "XRougQsRxeQP"
      }
    },
    {
      "cell_type": "code",
      "source": [
        "def select_context_navigation(temporada, competicion, atributo, nacionalidad):\n",
        "  \"\"\"\n",
        "  Selecciona las opciones en un desplegable y además devuelve el número de \n",
        "  páginas por las que hay que navegar una vez se ha hecho la selección\n",
        "  \"\"\"\n",
        "  # selección de la temporada\n",
        "  dropdownT = Select(driver.find_element('id', '_ctl0_MainContentPlaceHolderMaster_temporadasDropDownList'))\n",
        "  dropdownT.select_by_visible_text(temporada)\n",
        "  time.sleep(1) # tiempo de carga\n",
        "  # selección del tipo de competición\n",
        "  dropdownC = Select(driver.find_element('id', '_ctl0_MainContentPlaceHolderMaster_gruposDropDownList'))\n",
        "  dropdownC.select_by_visible_text(competicion)\n",
        "  time.sleep(1) # tiempo de carga\n",
        "  # selección de los atributos\n",
        "  dropdownA = Select(driver.find_element('id', '_ctl0_MainContentPlaceHolderMaster_rankingsDropDownList'))\n",
        "  dropdownA.select_by_visible_text(atributo)\n",
        "  time.sleep(1) # tiempo de carga\n",
        "  # selección de los atributos\n",
        "  dropdownN = Select(driver.find_element('id', '_ctl0_MainContentPlaceHolderMaster_nacionalDropDownList'))\n",
        "  dropdownN.select_by_visible_text(nacionalidad)\n",
        "  time.sleep(1) # tiempo de carga\n",
        "\n",
        "  # obtenemos el número de páginas del paginador\n",
        "  pages = len(driver.find_element(By.CLASS_NAME,'tabla-paginador').find_elements(By.TAG_NAME,'a'))\n",
        "\n",
        "  return pages"
      ],
      "metadata": {
        "id": "5tbjkMLdxZ_2"
      },
      "execution_count": 5,
      "outputs": []
    },
    {
      "cell_type": "markdown",
      "source": [
        "### **6. Recolección de atributos**"
      ],
      "metadata": {
        "id": "ko-b859NEFOr"
      }
    },
    {
      "cell_type": "code",
      "source": [
        "def collect_attributes(lim):\n",
        "  \"\"\"\n",
        "  Recopila los datos y los guarda en una lista\n",
        "  \"\"\"\n",
        "  data = []\n",
        "  page = 2\n",
        "  while page <= lim + 2:\n",
        "    time.sleep(2)  \n",
        "    selection = driver.find_element(By.ID, '_ctl0_MainContentPlaceHolderMaster_rankingAcumuladosDataGrid').find_elements(By.TAG_NAME,'td')\n",
        "    for sel in selection:\n",
        "      if sel.text != '' and sel.text != \"1 2\" and sel.text != \"1 2 3\":\n",
        "        data.append(sel.text)\n",
        "    # Para hacer scroll\n",
        "    driver.execute_script('window.scrollTo(0,document.body.scrollHeight)')\n",
        "    # Damos tiempo\n",
        "    time.sleep(2)\n",
        "    # Hacemos clic en el siguiente enlace de paginación\n",
        "    if page < lim + 2:\n",
        "      button_page = driver.find_element(By.LINK_TEXT, str(page)).click()\n",
        "    page = page + 1\n",
        "  return data"
      ],
      "metadata": {
        "id": "5aArGVuvxvNk"
      },
      "execution_count": 6,
      "outputs": []
    },
    {
      "cell_type": "markdown",
      "source": [
        "### **7. Creación de un dataframe con los datos**"
      ],
      "metadata": {
        "id": "HDYUOAME-lUf"
      }
    },
    {
      "cell_type": "code",
      "source": [
        "def create_df (lista, temporada, atributo, nacionalidad):\n",
        "  \"\"\"\n",
        "  Generamos un dataframe con los datos con los datos de los atributos\n",
        "  \"\"\"\n",
        "  if atributo == 'Puntos':\n",
        "    df = pd.DataFrame(columns=['Temporada','Jugadora', 'Nacionalidad',\n",
        "                                          'Equipo', atributo, 'Partidos'])  \n",
        "    for i in range(int(len(lista)/5)):\n",
        "      dict_fila = {'Temporada': [temporada],\n",
        "                      'Jugadora': [lista[5*i]],\n",
        "                      'Nacionalidad': [nacionalidad],\n",
        "                      'Equipo': [lista[5*i+1]],\n",
        "                      atributo:[lista[5*i+2]],\n",
        "                      'Partidos':[lista[5*i+3]]}\n",
        "      df_fila = pd.DataFrame(dict_fila)\n",
        "      df = pd.concat([df, df_fila], ignore_index = True)\n",
        "  else:\n",
        "    df = pd.DataFrame(columns=['Jugadora', atributo]) \n",
        "    for i in range(int(len(lista)/5)):\n",
        "      dict_fila = {'Jugadora': [lista[5*i]],\n",
        "                    atributo:[lista[5*i+2]]}\n",
        "      df_fila = pd.DataFrame(dict_fila)\n",
        "      df = pd.concat([df, df_fila], ignore_index = True)\n",
        "  df = df.sort_values('Jugadora')\n",
        "  # Tratamiento de jugadoras duplicadas que han cambiado de equipo durante la liga\n",
        "  if df[\"Jugadora\"].duplicated(keep = False).any() == True:\n",
        "    bool_series = df[\"Jugadora\"].duplicated(keep = False)\n",
        "    df = df[~bool_series]\n",
        "  return df"
      ],
      "metadata": {
        "id": "pop6AbyyJxcx"
      },
      "execution_count": 7,
      "outputs": []
    },
    {
      "cell_type": "markdown",
      "source": [
        "### **8. Función que realiza el scraping**"
      ],
      "metadata": {
        "id": "1H9PSYbF-oou"
      }
    },
    {
      "cell_type": "code",
      "source": [
        "def webscraper(seasons, attributes, nationality):\n",
        "  \"\"\"\n",
        "  Función que realiza el raspado web\n",
        "  \"\"\"\n",
        "  for key in seasons:\n",
        "    df_season = pd.DataFrame(columns=['Jugadora'])\n",
        "    for att in attributes:\n",
        "      df_complete = pd.DataFrame()  \n",
        "      for nat in nationality:\n",
        "        lista = collect_attributes(select_context_navigation(key, seasons[key], att, nat))\n",
        "        df_partial = create_df(lista, key, att, nat)\n",
        "        df_complete = pd.concat([df_complete, df_partial], ignore_index = True)\n",
        "      df_complete = df_complete.sort_values('Jugadora')\n",
        "      df_season = pd.merge(df_season, df_complete, on='Jugadora', how='outer')\n",
        "    df_season.to_csv(r'/content/drive/MyDrive/PR1Datos/data.csv', mode = 'a', header = True, index = False)\n",
        "  return driver.quit()"
      ],
      "metadata": {
        "id": "RhdlUFbSJ1cx"
      },
      "execution_count": 8,
      "outputs": []
    },
    {
      "cell_type": "markdown",
      "source": [
        "### **9. Ejecución final**"
      ],
      "metadata": {
        "id": "b1rG994q-yJv"
      }
    },
    {
      "cell_type": "code",
      "source": [
        "# variaciones que vamos a utilizar para extraer la información\n",
        "attributes = ['Puntos', 'Rebotes Totales', 'Rebotes Ofensivos', 'Rebotes Defensivos',\n",
        "             'Asistencias', 'Balones recuperados', 'Balones perdidos', 'Tapones a favor',\n",
        "             'Tapones en contra', 'Faltas recibidas', 'Faltas cometidas',\n",
        "             'Valoración', 'Minutos jugados', '% Tiros de 2', '% Tiros de 3', '% Tiros Libres']\n",
        "seasons = {'2022/2023':'Liga Regular Único',\n",
        "           '2021/2022':'Liga Regular Único',\n",
        "           '2020/2021':'Liga Regular Único',\n",
        "           '2019/2020':'Liga Regular Único',\n",
        "           '2018/2019':'Liga Regular',\n",
        "           '2017/2018':'Liga Regular Único',\n",
        "           '2016/2017':'Liga Regular Único',\n",
        "           '2015/2016':'Liga Regular Único',\n",
        "           '2014/2015':'Liga Regular Único',\n",
        "           '2013/2014':'Liga Regular Grupo Unico',\n",
        "           '2012/2013':'Liga Regular Único',\n",
        "           '2011/2012':'LIGA REGULAR Único',\n",
        "           '2010/2011':'REGULAR ÚNICO',\n",
        "           '2009/2010':'REGULAR ÚNICO',\n",
        "           '2008/2009':'REGULAR ÚNICO',\n",
        "           '2007/2008':'REGULAR ÚNICO',\n",
        "           '2006/2007':'REGULAR ÚNICO',\n",
        "           '2005/2006':'REGULAR',\n",
        "           '2004/2005':'REGULAR',\n",
        "           '2003/2004':'LIGA REGULAR ÚNICO'\n",
        "           }\n",
        "nationality = ['Nacional', 'Extranjero']\n",
        "\n",
        "# Ruta de la página web\n",
        "url = 'https://baloncestoenvivo.feb.es/rankings/lfendesa/4/2022'\n",
        "\n",
        "# Navegar a una página web\n",
        "driver = iniciar_chrome()\n",
        "driver.get(url)\n",
        "\n",
        "# Lanzamos la función\n",
        "webscraper(seasons, attributes, nationality)"
      ],
      "metadata": {
        "id": "ICsGU8HDylEp"
      },
      "execution_count": 10,
      "outputs": []
    }
  ]
}
